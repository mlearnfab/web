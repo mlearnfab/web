{
 "cells": [
  {
   "cell_type": "markdown",
   "id": "d4f0062c",
   "metadata": {},
   "source": [
    "# Preview\n",
    "\n",
    "We will study five topics: **simple objects**, **collections**, **iteration**, **branching**, and **functions**"
   ]
  },
  {
   "cell_type": "markdown",
   "id": "cd78823a",
   "metadata": {},
   "source": [
    "## Takeaways\n",
    "\n",
    "\n",
    "- Python contains four **simple objects**: `int`, `float`, `bool`, and `str`. \n",
    "\n",
    "- Python contains four **collections**: `list`, `tuple`, `set`, and `dictionary`.\n",
    "\n",
    "- **Iteration** is performed in Python with `for` and `while` loops.\n",
    "\n",
    "- **Branching** is performed in Python with `if`, `else`, and `elif`.\n",
    "\n",
    "- A Python **function** takes one or more inputs, performs an operation on the inputs, and returns an output. \n"
   ]
  },
  {
   "cell_type": "markdown",
   "id": "6668c6ad",
   "metadata": {},
   "source": [
    "## Simple Objects\n",
    "\n",
    "Our initial Python world consists of four types of atoms or objects: `int`, `float`, `bool`, and `str`. \n",
    "We can perform various operations on the objects. The operations are shown in the videos and in a separate notebook."
   ]
  },
  {
   "cell_type": "code",
   "execution_count": 16,
   "id": "e8cf481a",
   "metadata": {},
   "outputs": [],
   "source": [
    "# let's create a variable and assign a float\n",
    "f = 2.71828"
   ]
  },
  {
   "cell_type": "code",
   "execution_count": 47,
   "id": "277ed28d",
   "metadata": {},
   "outputs": [
    {
     "name": "stdout",
     "output_type": "stream",
     "text": [
      "2.71828\n",
      "<class 'float'>\n"
     ]
    }
   ],
   "source": [
    "# print the value of f and then check its data type\n",
    "print(f)\n",
    "print(type(f))"
   ]
  },
  {
   "cell_type": "code",
   "execution_count": 1,
   "id": "197e3a97",
   "metadata": {},
   "outputs": [],
   "source": [
    "# let's create a string object and assign it to a variable\n",
    "s = \"Virginia Woolf\""
   ]
  },
  {
   "cell_type": "code",
   "execution_count": 3,
   "id": "676f746f",
   "metadata": {},
   "outputs": [
    {
     "name": "stdout",
     "output_type": "stream",
     "text": [
      "Virginia Woolf\n",
      "<class 'str'>\n"
     ]
    }
   ],
   "source": [
    "# print the value of s and check its data type\n",
    "print(s)\n",
    "print(type(s))"
   ]
  },
  {
   "cell_type": "markdown",
   "id": "a1e4c0c3",
   "metadata": {},
   "source": [
    "## Collections\n",
    "\n",
    "We expand our Python world by forming collections. Think of collections as molecules. \n",
    "\n",
    "There are four basic types of collections in Python: `set`, `list`, `tuple`, and `dict`. \n",
    "\n",
    "In this notebook we will only look at lists. Lists are ordered collections."
   ]
  },
  {
   "cell_type": "code",
   "execution_count": 6,
   "id": "d41acc99",
   "metadata": {},
   "outputs": [],
   "source": [
    "# from our atoms let's create a list taking a sample of each simple object\n",
    "\n",
    "NoahsArk = [3.14159, False, -15, 'So far beyond the causal solitudes']"
   ]
  },
  {
   "cell_type": "code",
   "execution_count": 7,
   "id": "6049786c",
   "metadata": {},
   "outputs": [
    {
     "data": {
      "text/plain": [
       "4"
      ]
     },
     "execution_count": 7,
     "metadata": {},
     "output_type": "execute_result"
    }
   ],
   "source": [
    "# we check the number of elements in a list with the len() function\n",
    "len(NoahsArk)"
   ]
  },
  {
   "cell_type": "code",
   "execution_count": 8,
   "id": "1c419080",
   "metadata": {},
   "outputs": [
    {
     "name": "stdout",
     "output_type": "stream",
     "text": [
      "[3.14159, False, -15, 'So far beyond the causal solitudes']\n"
     ]
    }
   ],
   "source": [
    "print(NoahsArk)"
   ]
  },
  {
   "cell_type": "code",
   "execution_count": 52,
   "id": "35596ad7",
   "metadata": {},
   "outputs": [],
   "source": [
    "# lists are mutable, meaning we can add and remove elements from it\n",
    "NoahsArk.append('Re-statement of Romance')"
   ]
  },
  {
   "cell_type": "code",
   "execution_count": 53,
   "id": "e52c31be",
   "metadata": {},
   "outputs": [
    {
     "data": {
      "text/plain": [
       "5"
      ]
     },
     "execution_count": 53,
     "metadata": {},
     "output_type": "execute_result"
    }
   ],
   "source": [
    "len(NoahsArk)"
   ]
  },
  {
   "cell_type": "code",
   "execution_count": 54,
   "id": "7c9aa68d",
   "metadata": {},
   "outputs": [
    {
     "name": "stdout",
     "output_type": "stream",
     "text": [
      "[3.14159, False, -15, 'So far beyond the causal solitudes', 'Re-statement of Romance']\n"
     ]
    }
   ],
   "source": [
    "print(NoahsArk)"
   ]
  },
  {
   "cell_type": "code",
   "execution_count": 9,
   "id": "3d6cf7b0",
   "metadata": {},
   "outputs": [
    {
     "data": {
      "text/plain": [
       "'So far beyond the causal solitudes'"
      ]
     },
     "execution_count": 9,
     "metadata": {},
     "output_type": "execute_result"
    }
   ],
   "source": [
    "# individual elements of a list can be referred to with an index\n",
    "NoahsArk[3]"
   ]
  },
  {
   "cell_type": "markdown",
   "id": "658bc138",
   "metadata": {},
   "source": [
    "# Iteration"
   ]
  },
  {
   "cell_type": "code",
   "execution_count": 55,
   "id": "293fefec",
   "metadata": {},
   "outputs": [],
   "source": [
    "# let's define a list containing colors\n",
    "colors = ['Mauve', 'Ochre', 'Damask', 'Cattleya']"
   ]
  },
  {
   "cell_type": "code",
   "execution_count": 56,
   "id": "c14a9a44",
   "metadata": {},
   "outputs": [
    {
     "name": "stdout",
     "output_type": "stream",
     "text": [
      "Mauve 5\n",
      "Ochre 5\n",
      "Damask 6\n",
      "Cattleya 8\n"
     ]
    }
   ],
   "source": [
    "# go through our list one at a time, print the item in the list and its length\n",
    "for color in colors:\n",
    "    print(color, len(color))"
   ]
  },
  {
   "cell_type": "markdown",
   "id": "193a2ec7",
   "metadata": {},
   "source": [
    "# Branching, Conditions"
   ]
  },
  {
   "cell_type": "code",
   "execution_count": 10,
   "id": "bccdce5c",
   "metadata": {},
   "outputs": [
    {
     "data": {
      "text/plain": [
       "[3.14159, False, -15, 'So far beyond the causal solitudes']"
      ]
     },
     "execution_count": 10,
     "metadata": {},
     "output_type": "execute_result"
    }
   ],
   "source": [
    "# Let's print the list NoahsAk\n",
    "NoahsArk"
   ]
  },
  {
   "cell_type": "code",
   "execution_count": 58,
   "id": "dd4d505d",
   "metadata": {},
   "outputs": [
    {
     "name": "stdout",
     "output_type": "stream",
     "text": [
      "3 So far beyond the causal solitudes\n",
      "4 Re-statement of Romance\n"
     ]
    }
   ],
   "source": [
    "# Go through the list and print an item only if it is a string; also print the index value\n",
    "for idx, item in enumerate(NoahsArk):\n",
    "    if type(item)==str:\n",
    "        print(idx, item)"
   ]
  },
  {
   "cell_type": "markdown",
   "id": "63e01d56",
   "metadata": {},
   "source": [
    "# Functions "
   ]
  },
  {
   "cell_type": "code",
   "execution_count": 11,
   "id": "80f3da7c",
   "metadata": {},
   "outputs": [],
   "source": [
    "# let's define a function for calculating tips\n",
    "\n",
    "def tip_calculator(bill, percentage):\n",
    "    tip = bill * percentage\n",
    "    return tip"
   ]
  },
  {
   "cell_type": "code",
   "execution_count": 12,
   "id": "97f1c505",
   "metadata": {},
   "outputs": [
    {
     "data": {
      "text/plain": [
       "4.1025"
      ]
     },
     "execution_count": 12,
     "metadata": {},
     "output_type": "execute_result"
    }
   ],
   "source": [
    "tip_calculator(27.35,.15)"
   ]
  },
  {
   "cell_type": "code",
   "execution_count": 15,
   "id": "71f35503",
   "metadata": {},
   "outputs": [],
   "source": [
    "# round up the tip; import the ceil function from the math library in pytho\n",
    "from math import ceil\n",
    "\n",
    "def tip_calculator(bill, percentage):\n",
    "    tip = ceil(bill * percentage)\n",
    "    return tip"
   ]
  },
  {
   "cell_type": "code",
   "execution_count": 71,
   "id": "b9645fda",
   "metadata": {},
   "outputs": [
    {
     "data": {
      "text/plain": [
       "5"
      ]
     },
     "execution_count": 71,
     "metadata": {},
     "output_type": "execute_result"
    }
   ],
   "source": [
    "tip_calculator(27.35,.15)"
   ]
  }
 ],
 "metadata": {
  "kernelspec": {
   "display_name": "Python 3 (ipykernel)",
   "language": "python",
   "name": "python3"
  },
  "language_info": {
   "codemirror_mode": {
    "name": "ipython",
    "version": 3
   },
   "file_extension": ".py",
   "mimetype": "text/x-python",
   "name": "python",
   "nbconvert_exporter": "python",
   "pygments_lexer": "ipython3",
   "version": "3.9.7"
  }
 },
 "nbformat": 4,
 "nbformat_minor": 5
}
